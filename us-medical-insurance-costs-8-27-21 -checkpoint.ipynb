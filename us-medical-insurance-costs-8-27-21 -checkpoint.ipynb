{
 "cells": [
  {
   "cell_type": "markdown",
   "metadata": {},
   "source": [
    "# U.S. Medical Insurance Costs"
   ]
  },
  {
   "cell_type": "markdown",
   "metadata": {},
   "source": [
    "# Import and save dataset as lists"
   ]
  },
  {
   "cell_type": "markdown",
   "metadata": {},
   "source": [
    "Notes\n",
    "- we could classify bmi as underweight, healthy and obese and return the counts"
   ]
  },
  {
   "cell_type": "code",
   "execution_count": 23,
   "metadata": {},
   "outputs": [],
   "source": [
    "import csv \n",
    "\n",
    "sex=[]\n",
    "age=[]\n",
    "bmi=[]\n",
    "children=[]\n",
    "smoker=[]\n",
    "region=[]\n",
    "charges=[]\n",
    "    \n",
    "with open ('./insurance.csv', newline='') as insurance_data:\n",
    "    \n",
    "    csv_reader=csv.DictReader(insurance_data)\n",
    "  \n",
    "    for row in csv_reader:\n",
    "        sex.append(row['sex'])\n",
    "        age.append(int(row['age']))\n",
    "        bmi.append(float(row['bmi']))\n",
    "        children.append(int(row['children']))\n",
    "        smoker.append(row['smoker'])\n",
    "        region.append(row['region'])\n",
    "        charges.append(float(row['charges']))\n",
    "\n",
    "\n"
   ]
  },
  {
   "cell_type": "markdown",
   "metadata": {},
   "source": [
    "# Create Functions to Count and Classify Unique Categories"
   ]
  },
  {
   "cell_type": "code",
   "execution_count": 30,
   "metadata": {},
   "outputs": [],
   "source": [
    "\n",
    "def count_category(a_list):\n",
    "    list_of_unique_categories = []\n",
    "    for i in a_list:\n",
    "        if i not in list_of_unique_categories:\n",
    "            list_of_unique_categories.append(i)\n",
    "    unique_count= {}\n",
    "    for i in list_of_unique_categories:\n",
    "        unique_count[i]=a_list.count(i)\n",
    "    return  unique_count\n",
    "\n",
    "#print(count_category(age))\n",
    "\n",
    "\n",
    "#Classify BMI\n",
    "\n",
    "def classify_bmi(bmi):\n",
    "    if i in bmi < 18.5:\n",
    "        return 'underweight'\n",
    "    elif i in bmi > 18.5 and i in bmi < 25:\n",
    "        return 'healthy weight'\n",
    "    elif i in bmi > 25 and i in bmi < 30:\n",
    "        return 'overweight'\n",
    "    else:\n",
    "        return 'obese'"
   ]
  },
  {
   "cell_type": "markdown",
   "metadata": {},
   "source": [
    "# Create Descriptive Statistcal Functions\n",
    "## - Create functions to analyze Medical Insurance Costs Data\n",
    "\n",
    "- Mean\n",
    "- Median\n",
    "- Mode\n",
    "- Variance\n",
    "- Standard Deviation\n",
    "- Range"
   ]
  },
  {
   "cell_type": "code",
   "execution_count": 15,
   "metadata": {},
   "outputs": [],
   "source": [
    "#Median is apart of the Central tendency which tells you about the centers of\n",
    "#the data. The median is the middle element of a sorted dataset.\n",
    "\n",
    "def median(a_list): \n",
    "    #sort the list\n",
    "    a_list.sort()\n",
    "    \n",
    "    #Find the length of the list\n",
    "    list_length = len(a_list)\n",
    "    \n",
    "    #if the length/2 has a remainder of 1\n",
    "    # divide the length by 2 and return the value in the middle. \n",
    "    # Use example [1,2,3] to explain\n",
    "    if list_length%2 == 1:\n",
    "        middle = list_length // 2\n",
    "        print (middle)\n",
    "        return a_list[middle]\n",
    "    \n",
    "    #if the length/2 has a remainder of 0\n",
    "    # divide the length by 2. Add list[length/2] + list[length/2-1] and get average.\n",
    "    # Use example [1,2,3,4] to explain\n",
    "    elif list_length%2 == 0:\n",
    "        average = (a_list[int(list_length/2)] + a_list[int(list_length/2-1)]) / 2\n",
    "        return average\n",
    "\n",
    "#Function that returns the sum \n",
    "def sum(a_list):\n",
    "    total = 0\n",
    "    for i in a_list:\n",
    "        total += i\n",
    "    return total\n",
    "\n",
    "#sample variance quatifies the spread of the data. It shows numerically how far \n",
    "#the data points are from the mean.\n",
    "# 𝑠² = Σᵢ(𝑥ᵢ − mean)² / (𝑛 − 1)\n",
    "def sample_variance(a_list):\n",
    "    \n",
    "    n = len(a_list)\n",
    "    mean = sum(a_list) / n\n",
    "    s_squared = sum((x_i - mean)**2 for x_i in a_list) / (n-1)\n",
    "    return s_squared\n",
    "\n",
    "\n",
    "#sample standard deviation is another measure of data spread. It is the positive\n",
    "#square root of the sample variance.\n",
    "def sample_standard_deviation(a_list):\n",
    "    standard_deviation = sample_variance(a_list) ** 0.5\n",
    "    return standard_deviation\n",
    "\n",
    "\n",
    "#Function that returns the mean\n",
    "def mean(a_list):\n",
    "    avg_value = sum(a_list) / len(a_list)\n",
    "    return avg_value\n",
    "\n",
    "#Function that returns the range\n",
    "def range(a_list):\n",
    "    min_value = min(a_list)\n",
    "    max_value = max(a_list)\n",
    "    range_value = max_value - min_value\n",
    "    return range_value"
   ]
  }
 ],
 "metadata": {
  "kernelspec": {
   "display_name": "Python 3 (ipykernel)",
   "language": "python",
   "name": "python3"
  },
  "language_info": {
   "codemirror_mode": {
    "name": "ipython",
    "version": 3
   },
   "file_extension": ".py",
   "mimetype": "text/x-python",
   "name": "python",
   "nbconvert_exporter": "python",
   "pygments_lexer": "ipython3",
   "version": "3.8.7"
  }
 },
 "nbformat": 4,
 "nbformat_minor": 4
}
